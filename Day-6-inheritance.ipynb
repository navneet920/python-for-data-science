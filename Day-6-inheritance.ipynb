{
 "cells": [
  {
   "cell_type": "code",
   "execution_count": 1,
   "metadata": {},
   "outputs": [
    {
     "name": "stdout",
     "output_type": "stream",
     "text": [
      "16000\n"
     ]
    }
   ],
   "source": [
    "#simple inheritance\n",
    "class Employee:                 #parent class \n",
    "    def __init__(self):\n",
    "        self.salary=15000\n",
    "\n",
    "class Programmer(Employee):      #child class \n",
    "    def give_bonus(self):\n",
    "        return self.salary+1000\n",
    "p=Programmer()\n",
    "print(p.give_bonus())    "
   ]
  },
  {
   "cell_type": "code",
   "execution_count": 1,
   "metadata": {},
   "outputs": [
    {
     "name": "stdout",
     "output_type": "stream",
     "text": [
      "this is Father \n",
      "this is Mother \n",
      "this is child \n"
     ]
    }
   ],
   "source": [
    "#Multiple parents\n",
    "class Father:\n",
    "    def display(self):\n",
    "        print(\"this is Father \")\n",
    "class Mother:\n",
    "    def show(self):\n",
    "        print(\"this is Mother \")\n",
    "class Child(Father,Mother):\n",
    "    def disp(self):\n",
    "        print(\"this is child \")\n",
    "\n",
    "c=Child()\n",
    "c.display()\n",
    "c.show()\n",
    "c.disp()                 "
   ]
  },
  {
   "cell_type": "code",
   "execution_count": 1,
   "metadata": {},
   "outputs": [
    {
     "name": "stdout",
     "output_type": "stream",
     "text": [
      "This is programmer \n",
      "16000\n"
     ]
    }
   ],
   "source": [
    "class Employee:                 #parent class \n",
    "    def __init__(self):\n",
    "        self.salary=15000\n",
    "\n",
    "class Programmer(Employee):          #child class      \n",
    "    def __init__(self):\n",
    "        super().__init__()       #calling parent class constructor\n",
    "        print(\"This is programmer \") \n",
    "    def give_bonus(self):\n",
    "        return self.salary+1000\n",
    "p=Programmer()\n",
    "print(p.give_bonus()) "
   ]
  },
  {
   "cell_type": "code",
   "execution_count": null,
   "metadata": {},
   "outputs": [],
   "source": []
  },
  {
   "cell_type": "code",
   "execution_count": null,
   "metadata": {},
   "outputs": [],
   "source": []
  },
  {
   "cell_type": "code",
   "execution_count": null,
   "metadata": {},
   "outputs": [],
   "source": []
  },
  {
   "cell_type": "code",
   "execution_count": null,
   "metadata": {},
   "outputs": [],
   "source": []
  },
  {
   "cell_type": "code",
   "execution_count": null,
   "metadata": {},
   "outputs": [],
   "source": []
  },
  {
   "cell_type": "code",
   "execution_count": null,
   "metadata": {},
   "outputs": [],
   "source": []
  },
  {
   "cell_type": "code",
   "execution_count": null,
   "metadata": {},
   "outputs": [],
   "source": []
  },
  {
   "cell_type": "code",
   "execution_count": null,
   "metadata": {},
   "outputs": [],
   "source": []
  },
  {
   "cell_type": "code",
   "execution_count": null,
   "metadata": {},
   "outputs": [],
   "source": []
  },
  {
   "cell_type": "code",
   "execution_count": null,
   "metadata": {},
   "outputs": [],
   "source": []
  },
  {
   "cell_type": "code",
   "execution_count": null,
   "metadata": {},
   "outputs": [],
   "source": []
  }
 ],
 "metadata": {
  "kernelspec": {
   "display_name": "Python 3",
   "language": "python",
   "name": "python3"
  },
  "language_info": {
   "codemirror_mode": {
    "name": "ipython",
    "version": 3
   },
   "file_extension": ".py",
   "mimetype": "text/x-python",
   "name": "python",
   "nbconvert_exporter": "python",
   "pygments_lexer": "ipython3",
   "version": "3.11.4"
  },
  "orig_nbformat": 4
 },
 "nbformat": 4,
 "nbformat_minor": 2
}
